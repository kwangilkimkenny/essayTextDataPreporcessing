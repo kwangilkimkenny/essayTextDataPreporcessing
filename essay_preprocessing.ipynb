{
 "cells": [
  {
   "cell_type": "code",
   "execution_count": 4,
   "metadata": {},
   "outputs": [],
   "source": [
    "import numpy as np\n",
    "import pandas as pd\n",
    "import re\n",
    "import nltk\n",
    "import docx2txt\n",
    "import sys\n",
    "import glob\n",
    "import os"
   ]
  },
  {
   "cell_type": "code",
   "execution_count": 7,
   "metadata": {},
   "outputs": [],
   "source": [
    "#docx 문서들을 불러와서 txt 로 변환한다. 이건 잘된다.\n",
    "txtdata = docx2txt.process(\"essay/01_Harvard/HarvardCS40COMMUNITY-03.docx\") \n",
    "with open(\"essay/01_Harvard/HarvardEssays.txt\", \"w\", encoding='UTF8') as text_file:\n",
    "    print(txtdata, file=text_file)"
   ]
  },
  {
   "cell_type": "code",
   "execution_count": null,
   "metadata": {},
   "outputs": [],
   "source": [
    "#폴더 내의 모든 문서 docx를 읽어와서 text 파일로 저장한다. 이건 ... 아직 안되고 있음. \n",
    "#directory = \"UniversityMajor/01_Harvard/\"\n",
    "outfile_name = \"merged_essay.txt\"\n",
    "\n",
    "out_file = open(outfile_name, 'w')\n",
    "#files = os.listdir(directory)\n",
    "files = glob.glob(\"essay/01_Harvard/*.docx\") #파일 리스트를 불러온다.\n",
    "for filename in files:\n",
    "    if \".docx\" not in filename:\n",
    "        continue\n",
    "    print(type(filename))\n",
    "    print(filename)\n",
    "    file = open(filename, encoding='utf-8')\n",
    "    for line in file:\n",
    "        out_file.write(line)\n",
    "    out_file.write(line)\n",
    "    out_file.write(\"\\n\")\n",
    "    file.close()\n",
    "out_file.close()\n",
    "\n"
   ]
  },
  {
   "cell_type": "code",
   "execution_count": 5,
   "metadata": {},
   "outputs": [
    {
     "data": {
      "text/plain": [
       "['.ipynb_checkpoints',\n",
       " 'bert',\n",
       " 'essay',\n",
       " 'EssayFit_AI_sentiment_application.ipynb',\n",
       " 'essay_preprocessing.ipynb',\n",
       " 'nsmc']"
      ]
     },
     "execution_count": 5,
     "metadata": {},
     "output_type": "execute_result"
    }
   ],
   "source": [
    "os.listdir()"
   ]
  },
  {
   "cell_type": "code",
   "execution_count": 84,
   "metadata": {},
   "outputs": [],
   "source": [
    "#txt 파일을 불러와서 text_input의 리스트에 모두 담는 코드임\n",
    "text_input=[]\n",
    "\n",
    "file=open(\"essay/01_Harvard/HarvardEssays.txt\", \"r\",  encoding='utf8')\n",
    "\n",
    "while (1):\n",
    "    line=file.readline()\n",
    "\n",
    "    try:escape=line.index('\\n')\n",
    "    except:escape=len(line)\n",
    "    \n",
    "    if line:\n",
    "        text_input.append(line[0:escape])\n",
    "    else:\n",
    "        break\n",
    "    \n",
    "file.close()"
   ]
  },
  {
   "cell_type": "code",
   "execution_count": 17,
   "metadata": {},
   "outputs": [
    {
     "data": {
      "text/plain": [
       "['Statistical Physics is a comedy in long-shot. Professor Nir Gov’s lecture (held during the summer camp at the Weizmann Institute of Science, Israel) covered a single topic in physics. However, its application was truly versatile—from cell dynamics to the collaboration patterns of ants. Full of curiosity, I approached him after the lecture and asked to learn more about the magical tool known as Statistical Physics. ',\n",
       " '',\n",
       " '“Start with ensemble theory,” he advised. ',\n",
       " '',\n",
       " 'Though, Statistical Physics seemed more of a tragedy, seen in close-up. Spending weeks with several textbooks, I found myself in a maze. ',\n",
       " '',\n",
       " 'To understand a system, you shall calculate every component’s behavior. This commandment summarizes the physics I had learned for three years at Korea Science Academy (KSA). However, when we consider a system with a myriad of particles, this directive is defied by the virtual impossibility of figuring out the motions of every particle. Instead, physicists construct the ensemble of macroscopic snapshots for a system. The snapshots contain different particle arrangements and movements as a “collection.”',\n",
       " '',\n",
       " 'As far as I understood, ensemble theory was similar to understanding the theme of a movie by watching a preview that only consists of the important scenes. Hypothetically, if I were to analyze every actor, every line, and every frame, it would actually hinder me from grasping the overall message of the film. In short, the theory states that a state of matter can be understood without knowing the movements of each and every particle. At odds with my existing beliefs, this new approach refused to settle in my brain. Even well-designed exercise problems in textbooks could not save me from drowning in confusion. ',\n",
       " '',\n",
       " 'Meanwhile, ensemble theory suggested a possible explanation for unanswered questions from my leadership during the KSA Science Fair. To successfully manage KSA’s largest international festival, I provided detailed instructions to each volunteer. For example, I assigned each of the fifteen volunteers a specific task, like the placement of posters and strict discussion guidelines in sessions, before the start of every presentation. Despite my efforts in trying to control all aspects, some problems emerged as some volunteers starting to miss the detailed plan of action. Initially, I was clueless as I tried to understand how such a detailed plan and execution could go haywire; however, as my knowledge in ensemble theory deepened, I began to realize the fundamental problems rooted in my approach. ',\n",
       " '',\n",
       " 'Instead of micromanagement, I should have viewed KSASF as an ensemble and seen the bigger picture of KSASF. As the head volunteer, I should have been brave enough to take a step back, observe, and created a macroscopic background that honors the core essence of KSASF—the exchange of scientific ideas. ',\n",
       " '',\n",
       " 'Given a second chance to be the head volunteer of the KSA Youth Science Camp, a mentoring event for sixty elementary and middle school students, I envisioned the camp’s activities in the perspective of an ensemble, where each event of the camp should align with the camp’s core message—learning science from inquiries. I designed the events with macroscopic thinking: being relevant to the given theme but minimizing its structure and guidelines. This encouraged the volunteers to be more proactive, fully showing their expertise in dynamic ‘open discussion sessions.’ Compared to KSASF, the camp became more colorful with unpredictable micro-level interactions—one of the topics, Does science make the world better, was initiated from a casual conversation between a volunteer and few participants. ',\n",
       " '',\n",
       " 'Feeling the power of ensemble theory through a real-life exercise, I could embrace its core idea. I cannot account for every interaction in every millisecond. Regardless, I now believe that we may find ways to grasp the complexity of our world while embracing our limitations and humbly accepting the uncontrollable versatility. From a scientist’s viewpoint, it may sound ironic. Still, ensemble theory taught me to gaze upon the bigger picture, observe how the frames connect and see the true meaning embedded behind all the complexity. ',\n",
       " '',\n",
       " 'During a Statistical Physics (PH312) class at KAIST, the professor asked me what I knew about the concept of ensemble. After sharing my experiences, he warmly smiled and said: \"Good start.\"']"
      ]
     },
     "execution_count": 17,
     "metadata": {},
     "output_type": "execute_result"
    }
   ],
   "source": [
    "text_input #  리스트에 담긴  text 를 보면, 글자 말고도 '' , '등의 문자들이 있음. 이것을 지워보자. 정규화하자는 말임"
   ]
  },
  {
   "cell_type": "code",
   "execution_count": 77,
   "metadata": {},
   "outputs": [
    {
     "data": {
      "text/plain": [
       "['Statistical Physics is a comedy in long shot',\n",
       " ' Professor Nir Gov’s lecture held during the summer camp at the Weizmann Institute of Science Israel covered a single topic in physics',\n",
       " ' However its application was truly versatile—from cell dynamics to the collaboration patterns of ants',\n",
       " ' Full of curiosity I approached him after the lecture and asked to learn more about the magical tool known as Statistical Physics',\n",
       " ' “Start with ensemble theory ” he advised',\n",
       " ' Though Statistical Physics seemed more of a tragedy seen in close up',\n",
       " ' Spending weeks with several textbooks I found myself in a maze',\n",
       " ' To understand a system you shall calculate every component’s behavior',\n",
       " ' This commandment summarizes the physics I had learned for three years at Korea Science Academy KSA ',\n",
       " ' However when we consider a system with a myriad of particles this directive is defied by the virtual impossibility of figuring out the motions of every particle',\n",
       " ' Instead physicists construct the ensemble of macroscopic snapshots for a system',\n",
       " ' The snapshots contain different particle arrangements and movements as a “collection',\n",
       " '” As far as I understood ensemble theory was similar to understanding the theme of a movie by watching a preview that only consists of the important scenes',\n",
       " ' Hypothetically if I were to analyze every actor every line and every frame it would actually hinder me from grasping the overall message of the film',\n",
       " ' In short the theory states that a state of matter can be understood without knowing the movements of each and every particle',\n",
       " ' At odds with my existing beliefs this new approach refused to settle in my brain',\n",
       " ' Even well designed exercise problems in textbooks could not save me from drowning in confusion',\n",
       " ' Meanwhile ensemble theory suggested a possible explanation for unanswered questions from my leadership during the KSA Science Fair',\n",
       " ' To successfully manage KSA’s largest international festival I provided detailed instructions to each volunteer',\n",
       " ' For example I assigned each of the fifteen volunteers a specific task like the placement of posters and strict discussion guidelines in sessions before the start of every presentation',\n",
       " ' Despite my efforts in trying to control all aspects some problems emerged as some volunteers starting to miss the detailed plan of action',\n",
       " ' Initially I was clueless as I tried to understand how such a detailed plan and execution could go haywire; however as my knowledge in ensemble theory deepened I began to realize the fundamental problems rooted in my approach',\n",
       " ' Instead of micromanagement I should have viewed KSASF as an ensemble and seen the bigger picture of KSASF',\n",
       " ' As the head volunteer I should have been brave enough to take a step back observe and created a macroscopic background that honors the core essence of KSASF—the exchange of scientific ideas',\n",
       " ' Given a second chance to be the head volunteer of the KSA Youth Science Camp a mentoring event for sixty elementary and middle school students I envisioned the camp’s activities in the perspective of an ensemble where each event of the camp should align with the camp’s core message—learning science from inquiries',\n",
       " ' I designed the events with macroscopic thinking being relevant to the given theme but minimizing its structure and guidelines',\n",
       " ' This encouraged the volunteers to be more proactive fully showing their expertise in dynamic open discussion sessions',\n",
       " '’ Compared to KSASF the camp became more colorful with unpredictable micro level interactions—one of the topics Does science make the world better was initiated from a casual conversation between a volunteer and few participants',\n",
       " ' Feeling the power of ensemble theory through a real life exercise I could embrace its core idea',\n",
       " ' I cannot account for every interaction in every millisecond',\n",
       " ' Regardless I now believe that we may find ways to grasp the complexity of our world while embracing our limitations and humbly accepting the uncontrollable versatility',\n",
       " ' From a scientist’s viewpoint it may sound ironic',\n",
       " ' Still ensemble theory taught me to gaze upon the bigger picture observe how the frames connect and see the true meaning embedded behind all the complexity',\n",
       " ' During a Statistical Physics PH312 class at KAIST the professor asked me what I knew about the concept of ensemble',\n",
       " ' After sharing my experiences he warmly smiled and said Good start',\n",
       " '']"
      ]
     },
     "execution_count": 77,
     "metadata": {},
     "output_type": "execute_result"
    }
   ],
   "source": [
    "text_only1 = re.sub('[-=+,#/\\?:^$@*\\\"※~&%ㆍ!』\\\\''‘|\\(\\)\\[\\]\\<\\>`\\'…》]', ' ', str(text_input))\n",
    "text_only2 = text_only1.strip()\n",
    "text_only3 = \" \".join(re.split(\"\\s+\", text_only2, flags=re.UNICODE))\n",
    "text_only4 = text_only3.split('.')\n",
    "#text_only5 = dict(['document', 'text_only4'])\n",
    "text_only4"
   ]
  },
  {
   "cell_type": "code",
   "execution_count": 83,
   "metadata": {},
   "outputs": [
    {
     "data": {
      "text/html": [
       "<div>\n",
       "<style scoped>\n",
       "    .dataframe tbody tr th:only-of-type {\n",
       "        vertical-align: middle;\n",
       "    }\n",
       "\n",
       "    .dataframe tbody tr th {\n",
       "        vertical-align: top;\n",
       "    }\n",
       "\n",
       "    .dataframe thead th {\n",
       "        text-align: right;\n",
       "    }\n",
       "</style>\n",
       "<table border=\"1\" class=\"dataframe\">\n",
       "  <thead>\n",
       "    <tr style=\"text-align: right;\">\n",
       "      <th></th>\n",
       "      <th>document</th>\n",
       "      <th>label</th>\n",
       "    </tr>\n",
       "  </thead>\n",
       "  <tbody>\n",
       "    <tr>\n",
       "      <th>0</th>\n",
       "      <td>Statistical Physics is a comedy in long shot</td>\n",
       "      <td>1</td>\n",
       "    </tr>\n",
       "    <tr>\n",
       "      <th>1</th>\n",
       "      <td>Professor Nir Gov’s lecture held during the s...</td>\n",
       "      <td>1</td>\n",
       "    </tr>\n",
       "    <tr>\n",
       "      <th>2</th>\n",
       "      <td>However its application was truly versatile—f...</td>\n",
       "      <td>1</td>\n",
       "    </tr>\n",
       "    <tr>\n",
       "      <th>3</th>\n",
       "      <td>Full of curiosity I approached him after the ...</td>\n",
       "      <td>1</td>\n",
       "    </tr>\n",
       "    <tr>\n",
       "      <th>4</th>\n",
       "      <td>“Start with ensemble theory ” he advised</td>\n",
       "      <td>1</td>\n",
       "    </tr>\n",
       "  </tbody>\n",
       "</table>\n",
       "</div>"
      ],
      "text/plain": [
       "                                            document  label\n",
       "0       Statistical Physics is a comedy in long shot      1\n",
       "1   Professor Nir Gov’s lecture held during the s...      1\n",
       "2   However its application was truly versatile—f...      1\n",
       "3   Full of curiosity I approached him after the ...      1\n",
       "4           “Start with ensemble theory ” he advised      1"
      ]
     },
     "execution_count": 83,
     "metadata": {},
     "output_type": "execute_result"
    }
   ],
   "source": [
    "#BERT에 입력하기 위해서 문장을 데이터프레임으로 전환. 성공 !! ㅎㅎ\n",
    "df = pd.DataFrame(text_only4)\n",
    "df['label'] = 1\n",
    "df.columns = ['document','label']\n",
    "df[0:5]"
   ]
  },
  {
   "cell_type": "code",
   "execution_count": null,
   "metadata": {},
   "outputs": [],
   "source": []
  }
 ],
 "metadata": {
  "kernelspec": {
   "display_name": "Python 3",
   "language": "python",
   "name": "python3"
  },
  "language_info": {
   "codemirror_mode": {
    "name": "ipython",
    "version": 3
   },
   "file_extension": ".py",
   "mimetype": "text/x-python",
   "name": "python",
   "nbconvert_exporter": "python",
   "pygments_lexer": "ipython3",
   "version": "3.6.10"
  }
 },
 "nbformat": 4,
 "nbformat_minor": 2
}
